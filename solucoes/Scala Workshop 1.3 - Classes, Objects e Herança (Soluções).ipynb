{
 "cells": [
  {
   "cell_type": "markdown",
   "metadata": {},
   "source": [
    "## Classes"
   ]
  },
  {
   "cell_type": "code",
   "execution_count": null,
   "metadata": {
    "collapsed": true
   },
   "outputs": [],
   "source": [
    "// Exemplo tirado do livro \"Scala for the Impatient\", capítulo 5\n",
    "class Counter {\n",
    "    private var value = 0\n",
    "    def increment() { value += 1}\n",
    "    def current() = value\n",
    "}"
   ]
  },
  {
   "cell_type": "code",
   "execution_count": null,
   "metadata": {
    "collapsed": true
   },
   "outputs": [],
   "source": [
    "val counter = new Counter\n",
    "counter.current()\n",
    "counter.increment()\n",
    "counter.current()"
   ]
  },
  {
   "cell_type": "markdown",
   "metadata": {},
   "source": [
    "Classes em Scala são declaradas de modo semelhante a Java:\n",
    "* Elas são instanciadas pelo operador **new**;\n",
    "* Elas possuem **campos** definidos como val's ou var's, sendo públicos por padrão. Os campos precisam sempre ser inicializados;\n",
    "* Elas possuem **métodos** definidos como def's. Esses métodos podem ser definidos sem listas de argumentos, como no método *current* do exemplo abaixo:"
   ]
  },
  {
   "cell_type": "code",
   "execution_count": null,
   "metadata": {
    "collapsed": true
   },
   "outputs": [],
   "source": [
    "// Exemplo tirado do livro \"Scala for the Impatient\", capítulo 5\n",
    "class Counter {\n",
    "    private var value = 0\n",
    "    def increment() { value += 1}\n",
    "    def current = value\n",
    "}\n",
    "\n",
    "val counter = new Counter\n",
    "counter.current // Note que \"current\" pode ser chamado sem parênteses agora - tente chamar com parênteses para ver o que acontece\n",
    "counter.increment()\n",
    "counter.current"
   ]
  },
  {
   "cell_type": "markdown",
   "metadata": {},
   "source": [
    "Ao contrário de classes em Java, em Scala as classes são públicas por padrão e várias delas podem ser definidas em um mesmo arquivo de código-fonte (que, por sua vez, não precisa ter o nome de nenhuma dessas classes)."
   ]
  },
  {
   "cell_type": "markdown",
   "metadata": {},
   "source": [
    "### Definindo getters e setters"
   ]
  },
  {
   "cell_type": "code",
   "execution_count": null,
   "metadata": {
    "collapsed": true
   },
   "outputs": [],
   "source": [
    "// Exemplo tirado do livro \"Scala for the Impatient\", capítulo 5\n",
    "class Person {\n",
    "    private var privateAge = 0\n",
    "    \n",
    "    def age = privateAge\n",
    "    def age_=(newAge: Int) {\n",
    "        if (newAge > privateAge) privateAge = newAge\n",
    "    }\n",
    "}\n",
    "\n",
    "val person = new Person\n",
    "person.age\n",
    "person.age = 10\n",
    "person.age\n",
    "person.age = 8\n",
    "person.age"
   ]
  },
  {
   "cell_type": "markdown",
   "metadata": {},
   "source": [
    "Campos em Scala são públicos por padrão sendo que, na prática, a classe gerada na JVM pelo compilador Scala possui os campos privados e getters e setters default públicos. Se quisermos ter mais controle sobre o acesso aos campos, pode-se declarar getters e setters personalizados definindo métodos chamados \n",
    "\n",
    "*def nomeDoCampo*\n",
    "\n",
    "e \n",
    "\n",
    "*def nomeDoCampo_=*"
   ]
  },
  {
   "cell_type": "code",
   "execution_count": null,
   "metadata": {
    "collapsed": true
   },
   "outputs": [],
   "source": [
    "// Exercício: defina novamento a classe Person acima com um campo privado chamado \"privateName\" (String)\n",
    "//            e um getter (sem setter) chamado \"name\".\n",
    "// Tente atribuir um valor a \"name\" e veja o que acontece.\n",
    "class Person {\n",
    "    private var privateName = \"\"\n",
    "    \n",
    "    def name = privateName\n",
    "}\n",
    "\n",
    "val person = new Person\n",
    "person.name\n",
    "person.name = \"Felipe\""
   ]
  },
  {
   "cell_type": "markdown",
   "metadata": {},
   "source": [
    "### Construtores"
   ]
  },
  {
   "cell_type": "code",
   "execution_count": null,
   "metadata": {
    "collapsed": true
   },
   "outputs": [],
   "source": [
    "class Person {\n",
    "    private var name = \"\"\n",
    "    private var age = 0\n",
    "    \n",
    "    def this(name: String) {\n",
    "        this()\n",
    "        this.name = name\n",
    "    }\n",
    "    \n",
    "    def this(name: String, age: Int) {\n",
    "        this(name)\n",
    "        this.age = age\n",
    "    }\n",
    "}\n",
    "\n",
    "new Person\n",
    "new Person(\"MyName\")\n",
    "new Person(\"MyName\", 25)"
   ]
  },
  {
   "cell_type": "markdown",
   "metadata": {},
   "source": [
    "Construtores em Scala são expressados pelo método *this()* com diferentes listas de argumentos. Um construtor deve sempre chamar, em sua primeira linha, outro construtor personalizado ou o construtor padrão (dado pelo método *this()* sem argumentos)."
   ]
  },
  {
   "cell_type": "markdown",
   "metadata": {},
   "source": [
    "Em Scala, uma classe pode também definir um construtor *primário* que não é definido por um método *this()*. Esse construtor é definido implicitamente a partir de dois elementos ilustrados no código abaixo:"
   ]
  },
  {
   "cell_type": "code",
   "execution_count": null,
   "metadata": {
    "collapsed": true
   },
   "outputs": [],
   "source": [
    "// 1) Uma lista de argumentos logo após o nome da classe, precedidos ou não de val ou var.\n",
    "//      Argumentos precedidos de val ou var tornam-se campos privados da classe;\n",
    "//      Argumentos sem val ou var tornam-se campos apenas se eles forem usados em métodos.\n",
    "class Person(val name: String, val age: Int, city: String, notAField: Int) {\n",
    "    // 2) Uma sequência de expressões no corpo da classe que será executada\n",
    "    //    quando a classe for instanciada\n",
    "    println(\"I was just created\")\n",
    "    println(\"This is not a field in this class: \" + notAField)\n",
    "    \n",
    "    def iAmFrom = \"I am from \" + city\n",
    "}\n",
    "\n",
    "val person = new Person(\"Filezinho bambino\", 29, \"Recife\", 1234)\n",
    "person.name\n",
    "person.age\n",
    "person.iAmFrom"
   ]
  },
  {
   "cell_type": "code",
   "execution_count": null,
   "metadata": {
    "collapsed": true
   },
   "outputs": [],
   "source": [
    "person.notAField"
   ]
  },
  {
   "cell_type": "markdown",
   "metadata": {},
   "source": [
    "### Objects"
   ]
  },
  {
   "cell_type": "markdown",
   "metadata": {},
   "source": [
    "Scala não possui o conceito de métodos estáticos, mas um mecanismo semelhante pode ser obtido através de métodos definidos em **objects** (o nome \"objects\", em inglês, será usado para diferenciar a estrutura apresentada abaixo de objetos instanciados normalmente a partir de uma classe). Na prática, objects podem ser entendidos como Singletons:"
   ]
  },
  {
   "cell_type": "code",
   "execution_count": null,
   "metadata": {
    "collapsed": true
   },
   "outputs": [],
   "source": [
    "object AnObject {\n",
    "    var state= 0\n",
    "    \n",
    "    def aMethod(x: Int) = {\n",
    "        state += 1\n",
    "        x + state\n",
    "    }\n",
    "}\n",
    "AnObject.state\n",
    "AnObject.aMethod(2)\n",
    "AnObject.state"
   ]
  },
  {
   "cell_type": "code",
   "execution_count": null,
   "metadata": {
    "collapsed": true
   },
   "outputs": [],
   "source": [
    "// Exercício: defina um object que imprima \"Hello World\" em sua inicialização e tenha \n",
    "//            um método \"aMethod\" que retorne 0.\n",
    "// A string foi impressa quando o objeto foi definido? O que acontece quando o método \"aMethod\" do objeto é invocado?\n",
    "// E quando o método é invocado pela segunda vez?\n",
    "object AnObject {\n",
    "    println(\"Hello World\")\n",
    "    \n",
    "    def aMethod = 0\n",
    "}"
   ]
  },
  {
   "cell_type": "code",
   "execution_count": null,
   "metadata": {
    "collapsed": true
   },
   "outputs": [],
   "source": [
    "AnObject.aMethod // Imprime \"Hello World\" antes de retornar 0."
   ]
  },
  {
   "cell_type": "markdown",
   "metadata": {},
   "source": [
    "Obviamente, objects não podem ser instanciados e não possuem argumentos em seu construtor, que só é chamado quando o método é usado pela primeira vez.\n",
    "\n",
    "Um padrão comum em Scala é definir-se os métodos de instância em uma classe e definir os métodos estáticos da classe em um object com o mesmo nome (chamado de *companion object*):"
   ]
  },
  {
   "cell_type": "code",
   "execution_count": null,
   "metadata": {
    "collapsed": true
   },
   "outputs": [],
   "source": [
    "// Exemplo tirado e adaptado do livro \"Scala for the Impatient\", capítulo 5\n",
    "class Account {\n",
    "    private val id = Account.newUniqueNumber()\n",
    "    \n",
    "    def myId = id\n",
    "}\n",
    "\n",
    "object Account {\n",
    "    private var lastNumber = 0\n",
    "    def newUniqueNumber() = {\n",
    "        lastNumber += 1\n",
    "        lastNumber\n",
    "    }\n",
    "}\n",
    "\n",
    "val account1 = new Account\n",
    "val account2 = new Account\n",
    "account1.myId\n",
    "account2.myId"
   ]
  },
  {
   "cell_type": "markdown",
   "metadata": {},
   "source": [
    "Um companion object pode acessar os elementos privados da sua classe e vice-versa, sendo que ambos devem ser declarados no mesmo arquivo."
   ]
  },
  {
   "cell_type": "code",
   "execution_count": null,
   "metadata": {
    "collapsed": true
   },
   "outputs": [],
   "source": [
    "// Exercício: recrie o companion object acima com um método que receba uma Account e retorne o \"id\" privado dela.\n",
    "class Account {\n",
    "    private val id = Account.newUniqueNumber()\n",
    "    \n",
    "    def myId = id\n",
    "}\n",
    "\n",
    "object Account {\n",
    "    private var lastNumber = 0\n",
    "    def newUniqueNumber() = {\n",
    "        lastNumber += 1\n",
    "        lastNumber\n",
    "    }\n",
    "    \n",
    "    def returnPrivateId(account: Account) = account.id\n",
    "}\n",
    "\n",
    "val account3 = new Account\n",
    "account3.myId\n",
    "Account.returnPrivateId(account3)"
   ]
  },
  {
   "cell_type": "markdown",
   "metadata": {},
   "source": [
    "#### Método *apply* em objects"
   ]
  },
  {
   "cell_type": "markdown",
   "metadata": {},
   "source": [
    "Um outro padrão de uso comum para objects em Scala é a definição de companion objects definindo um método chamado *apply*. Esse método permite que o object seja chamado com uma sintaxe semelhante à de uma função e geralmente é usado como uma \"factory\" para gerar instâncias da classe correspondente. Aplicando isso ao exemplo anterior:"
   ]
  },
  {
   "cell_type": "code",
   "execution_count": null,
   "metadata": {
    "collapsed": true
   },
   "outputs": [],
   "source": [
    "// Exemplo tirado e adaptado do livro \"Scala for the Impatient\", capítulo 5\n",
    "class Account(val name: String) {\n",
    "    private val id = Account.newUniqueNumber()\n",
    "    \n",
    "    def myId = id\n",
    "}\n",
    "\n",
    "object Account {\n",
    "    private var lastNumber = 0\n",
    "    def newUniqueNumber() = {\n",
    "        lastNumber += 1\n",
    "        lastNumber\n",
    "    }\n",
    "    \n",
    "    def apply(name: String) = new Account(name)\n",
    "}\n",
    "\n",
    "val account1 = Account(\"aName\")\n",
    "val account2 = Account(\"anotherName\")\n",
    "account1.name\n",
    "account2.name"
   ]
  },
  {
   "cell_type": "markdown",
   "metadata": {},
   "source": [
    "A título de curiosidade, funções anônimas em Scala são, internamente, apenas objetos com uma definição do método *apply*, conforme ilustrado abaixo:"
   ]
  },
  {
   "cell_type": "code",
   "execution_count": null,
   "metadata": {
    "collapsed": true
   },
   "outputs": [],
   "source": [
    "val aFunction = (x: Int) => x + 1\n",
    "aFunction(1)\n",
    "aFunction.apply(1)"
   ]
  },
  {
   "cell_type": "code",
   "execution_count": null,
   "metadata": {
    "collapsed": true
   },
   "outputs": [],
   "source": [
    "// Exercício: recrie a função acima explicitamente como um object - isto é, um object chamado \"aFunction\"\n",
    "// contendo um método \"apply\".\n",
    "object aFunction {\n",
    "    def apply(x: Int): Int = x + 1\n",
    "}\n",
    "\n",
    "aFunction(1)"
   ]
  },
  {
   "cell_type": "markdown",
   "metadata": {},
   "source": [
    "### Case classes"
   ]
  },
  {
   "cell_type": "markdown",
   "metadata": {},
   "source": [
    "**Case classes** permitem definir, de maneira mais sucinta, classes com um conjunto de características:\n",
    "* Atributos do construtor primário tornam-se campos imutáveis públicos, a não ser que sejam declarados com modificadores como \"var\" e \"private\";\n",
    "* Um companion object com método *apply* é criado automaticamente, logo case classes não precisam ser instanciadas com \"new\";\n",
    "* Implementação automática de métodos *hashCode*, *toString* e *equals*, o que permite que objetos de case classes possam ter seus valores comparados com o operador \"==\";\n",
    "* Implementação automática de um método *copy* que permite copiar instâncias de case classes modificando apenas um subconjunto de atributos por vez;\n",
    "\n",
    "Esses elementos estão ilustrados no exemplo abaixo:"
   ]
  },
  {
   "cell_type": "code",
   "execution_count": null,
   "metadata": {
    "collapsed": true
   },
   "outputs": [],
   "source": [
    "case class Person(name: String, var age: Int, val address: String)\n",
    "val person1 = Person(\"MyName\", 17, \"Recife\")\n",
    "val person2 = Person(\"AnotherName\", 21, \"Fortaleza\")\n",
    "\n",
    "person1.name\n",
    "person1.age\n",
    "person1.age = 21\n",
    "person1.age\n",
    "\n",
    "person1 == person2\n",
    "\n",
    "val person3 = person1.copy(age = 32)\n",
    "person3.toString"
   ]
  },
  {
   "cell_type": "code",
   "execution_count": null,
   "metadata": {
    "collapsed": true
   },
   "outputs": [],
   "source": [
    "// Exercício: crie uma nova Person a partir de \"person2\" mudando o \"name\" para \"YetAnotherName\" \n",
    "// e o \"address\" para \"Natal\" (chame o método copy() passando os dois campos separados por vírgula).\n",
    "person2.copy(name = \"YetAnotherName\", address = \"Natal\")"
   ]
  },
  {
   "cell_type": "markdown",
   "metadata": {},
   "source": [
    "### Herança"
   ]
  },
  {
   "cell_type": "markdown",
   "metadata": {},
   "source": [
    "Classes em Scala podem estender outras classes usando-se uma sintaxe semelhante à usada em java:"
   ]
  },
  {
   "cell_type": "code",
   "execution_count": null,
   "metadata": {
    "collapsed": true
   },
   "outputs": [],
   "source": [
    "class Being {\n",
    "    def greeting {\n",
    "        println(\"I am a being!\")\n",
    "    }\n",
    "}\n",
    "\n",
    "class Person extends Being {\n",
    "    override def greeting {\n",
    "        println(\"I am a person!\")\n",
    "    }\n",
    "}\n",
    "\n",
    "val being = new Being\n",
    "val person = new Person\n",
    "\n",
    "being.greeting\n",
    "person.greeting"
   ]
  },
  {
   "cell_type": "markdown",
   "metadata": {},
   "source": [
    "Para sobrescrever um método da classe base, é preciso usar o modificador *override* na classe derivada. Se a classe base for declarada como *abstract*, isso não é necessário:"
   ]
  },
  {
   "cell_type": "code",
   "execution_count": null,
   "metadata": {
    "collapsed": true
   },
   "outputs": [],
   "source": [
    "abstract class Being {\n",
    "    def greeting: Unit\n",
    "}\n",
    "\n",
    "class Person extends Being {\n",
    "    def greeting {\n",
    "        println(\"I am a person!\")\n",
    "    }\n",
    "}\n",
    "\n",
    "val person = new Person\n",
    "person.greeting"
   ]
  },
  {
   "cell_type": "markdown",
   "metadata": {},
   "source": [
    "É possível também sobrescrever campos da classe base. Uma prática comum é definir o campo como um \"def\" na classe base e definir esses campos na classe derivada como val's ou var's. Isso dá mais flexibilidade para as classes que precisam implementar a classe base, já que o contrário (\"val\" ou \"var\" na classe base ser definido como \"def\" na classe derivada) não é possível:"
   ]
  },
  {
   "cell_type": "code",
   "execution_count": null,
   "metadata": {
    "collapsed": true
   },
   "outputs": [],
   "source": [
    "abstract class Being {\n",
    "    def species = \"Generic Being\"\n",
    "    def name: String // Campos totalmente abstratos precisam especificar o tipo\n",
    "}\n",
    "\n",
    "class Person extends Being {\n",
    "    override val species = \"Human\" // Campos com valor default na classe base ainda precisam do modificador \"override\"\n",
    "    val name = \"MyName\"\n",
    "}\n",
    "\n",
    "class UnknownBeing extends Being {\n",
    "    val name = \"I am void\"\n",
    "}\n",
    "\n",
    "val person = new Person\n",
    "person.species\n",
    "person.name\n",
    "\n",
    "val unknownBeing = new UnknownBeing\n",
    "unknownBeing.name\n",
    "unknownBeing.species // Retorna valor especificado pela classe base"
   ]
  },
  {
   "cell_type": "code",
   "execution_count": null,
   "metadata": {
    "collapsed": true
   },
   "outputs": [],
   "source": [
    "// Exercício: tente redefinir a classe Being acima declarando o campo \"name\" como um val e redefina a\n",
    "// classe Person (herdando de Being) declarando o campo \"name\" como um var.\n",
    "// Como deve ser a declaração do campo \"name\" em Person para que o código funcione nesse caso?\n",
    "abstract class Being {\n",
    "    def species = \"Generic Being\"\n",
    "    val name: String\n",
    "}\n",
    "\n",
    "class Person extends Being {\n",
    "    override val species = \"Human\"\n",
    "    var name = \"MyName\" // Deve-se mudar para \"val\" para que funcione\n",
    "}\n"
   ]
  },
  {
   "cell_type": "markdown",
   "metadata": {},
   "source": [
    "Assim como em outras linguagens populares com orientação a objetos, o uso de classes abstratas pode levar ao problema da herança múltipla, o que leva à restrição de que uma classe só pode herdar de uma e apenas uma outra classe.\n",
    "Para permitir que uma classe possa herdar de várias outras, geralmente as linguagens orientadas a objeto introduzem o conceito de *Interfaces*. Em Scala, o comportamento de interface é oferecido por *Traits*:"
   ]
  },
  {
   "cell_type": "code",
   "execution_count": null,
   "metadata": {
    "collapsed": true
   },
   "outputs": [],
   "source": [
    "trait Greeter {\n",
    "    def greet: String\n",
    "}\n",
    "\n",
    "trait Walker {\n",
    "    def walk: String\n",
    "}\n",
    "\n",
    "abstract class DefaultPerson extends Walker {\n",
    "    def walk = \"I am walking on two feet!\"\n",
    "}\n",
    "\n",
    "// Primeiro \"extends\", depois \"with\"\n",
    "class Person extends DefaultPerson with Greeter {\n",
    "    def greet = \"Hello!\" // Tente remover depois essa definição para ver o erro lançado pelo compilador\n",
    "}\n",
    "\n",
    "val person = new Person\n",
    "person.greet\n",
    "person.walk"
   ]
  },
  {
   "cell_type": "markdown",
   "metadata": {},
   "source": [
    "Traits podem ter implementações em seus métodos, mas essa construção costuma ser mais comum quando se deseja usar traits em [composição por mixins](http://www.scala-lang.org/old/node/117). Essa forma de composição de classes não será discutida nesse workshop."
   ]
  },
  {
   "cell_type": "markdown",
   "metadata": {},
   "source": [
    "Por fim, objects e case classes podem herdar de outras classes e traits de modo semelhante:"
   ]
  },
  {
   "cell_type": "code",
   "execution_count": null,
   "metadata": {
    "collapsed": true
   },
   "outputs": [],
   "source": [
    "object Aperson extends DefaultPerson with Greeter {\n",
    "    def greet = \"Hello from object!\"\n",
    "}\n",
    "\n",
    "case class Person(name: String) extends DefaultPerson with Greeter {\n",
    "    def greet = \"Hello from case class!\"\n",
    "}\n",
    "\n",
    "Aperson.greet\n",
    "Person(\"AName\").greet"
   ]
  },
  {
   "cell_type": "markdown",
   "metadata": {},
   "source": [
    "*Um object poderia ser declarado como abstract? E uma case class?*"
   ]
  },
  {
   "cell_type": "markdown",
   "metadata": {},
   "source": [
    "## *Parêntese: Value classes*"
   ]
  },
  {
   "cell_type": "markdown",
   "metadata": {},
   "source": [
    "Como já mencionado no notebook 1.1, é possível criar Rich Types eficientes em Scala para tornar o uso de valores \"primitivos\" mais legível e robusto:"
   ]
  },
  {
   "cell_type": "code",
   "execution_count": null,
   "metadata": {
    "collapsed": true
   },
   "outputs": [],
   "source": [
    "// Exemplo adaptado de https://stackoverflow.com/questions/42234299/are-there-advantages-for-using-value-class-without-methods-vs-type-alias\n",
    "val degreesInCelsius = 36.0\n",
    "val degreesInFarenheit = 96.8\n",
    "\n",
    "def c2f(c: Double): Double = (c * 9.0 / 5.0) + 32"
   ]
  },
  {
   "cell_type": "code",
   "execution_count": null,
   "metadata": {
    "collapsed": true
   },
   "outputs": [],
   "source": [
    "c2f(degreesInCelsius)   // Uso correto, passando variável com graus em Celsius\n",
    "c2f(degreesInFarenheit) // USo incorreto, passando variável com graus em Fahrenheit - mas como saber?"
   ]
  },
  {
   "cell_type": "code",
   "execution_count": null,
   "metadata": {
    "collapsed": true
   },
   "outputs": [],
   "source": [
    "case class CelsiusDegrees(deg: Double) extends AnyVal\n",
    "case class FahrenheitDegrees(deg: Double) extends AnyVal\n",
    "\n",
    "def safeC2F(c: CelsiusDegrees): FahrenheitDegrees = (c * 9.0 / 5.0) + 32"
   ]
  },
  {
   "cell_type": "markdown",
   "metadata": {},
   "source": [
    "A compilação acima falha porque value classes não podem estar declaradas dentro de outra classe ou objeto - nesse caso, os comandos que foram digitados até agora no notebook estão contidos em um objeto implícito criado pelo REPL de Scala. Será necessário colocar os exemplos a seguir em arquivos **ValueClassExample.scala** e **InvalidValueClassExample.scala**, respectivamente, e compilá-los para checar o resultado:"
   ]
  },
  {
   "cell_type": "code",
   "execution_count": null,
   "metadata": {
    "collapsed": true
   },
   "outputs": [],
   "source": [
    "case class CelsiusDegrees(deg: Double) extends AnyVal\n",
    "case class FahrenheitDegrees(deg: Double) extends AnyVal\n",
    "\n",
    "object ValueClassExample {\n",
    "    def safeC2F(c: CelsiusDegrees): FahrenheitDegrees = FahrenheitDegrees((c.deg * 9.0 / 5.0) + 32)\n",
    "\n",
    "    def main(args: Array[String]) = {\n",
    "        val degreesInCelsius: CelsiusDegrees = CelsiusDegrees(36.0)\n",
    "        val degreesInFarenheit: FahrenheitDegrees = FahrenheitDegrees(96.8)\n",
    "\n",
    "        // Deve imprimir \"FahrenheitDegrees(96.8)\"\n",
    "        println(safeC2F(degreesInCelsius))\n",
    "    }\n",
    "}"
   ]
  },
  {
   "cell_type": "code",
   "execution_count": null,
   "metadata": {
    "collapsed": true
   },
   "outputs": [],
   "source": [
    "case class CelsiusDegrees(deg: Double) extends AnyVal\n",
    "case class FahrenheitDegrees(deg: Double) extends AnyVal\n",
    "\n",
    "object InvalidValueClassExample {\n",
    "    def safeC2F(c: CelsiusDegrees): FahrenheitDegrees = FahrenheitDegrees((c.deg * 9.0 / 5.0) + 32)\n",
    "\n",
    "    def main(args: Array[String]) = {\n",
    "        val degreesInCelsius: CelsiusDegrees = CelsiusDegrees(36.0)\n",
    "        val degreesInFarenheit: FahrenheitDegrees = FahrenheitDegrees(96.8)\n",
    "\n",
    "        // Deve lançar um erro de compilação por causa do tipo esperado\n",
    "        println(safeC2F(degreesInFarenheit))\n",
    "    }\n",
    "}"
   ]
  },
  {
   "cell_type": "markdown",
   "metadata": {},
   "source": [
    "Value classes possuem algumas limitações:\n",
    "* Só podem ter um construtor, recebendo apenas um parâmetro *val* que não pode ser também uma value class;\n",
    "* Só pode ter *def's* como membros;\n",
    "* Não podem ser estendidas por outras classes\n",
    "\n",
    "A lista completa de limitações de value classes pode ser vista [nesse link](https://docs.scala-lang.org/overviews/core/value-classes.html)."
   ]
  }
 ],
 "metadata": {
  "anaconda-cloud": {},
  "kernelspec": {
   "display_name": "Scala",
   "language": "scala",
   "name": "scala"
  },
  "language_info": {
   "codemirror_mode": "text/x-scala",
   "file_extension": ".scala",
   "mimetype": "text/x-scala",
   "name": "scala211",
   "nbconvert_exporter": "script",
   "pygments_lexer": "scala",
   "version": "2.11.11"
  }
 },
 "nbformat": 4,
 "nbformat_minor": 2
}
