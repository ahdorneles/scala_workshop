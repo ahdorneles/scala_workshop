{
 "cells": [
  {
   "cell_type": "markdown",
   "metadata": {},
   "source": [
    "## Blocos if"
   ]
  },
  {
   "cell_type": "code",
   "execution_count": null,
   "metadata": {
    "collapsed": false
   },
   "outputs": [],
   "source": [
    "// Blocos \"if\" possuem um valor e tipo correspondentes ao retorno da expressão...\n",
    "if (1 > 2)\n",
    "    \"true\"\n",
    "else\n",
    "    \"false\""
   ]
  },
  {
   "cell_type": "code",
   "execution_count": null,
   "metadata": {
    "collapsed": true
   },
   "outputs": [],
   "source": [
    "// ... e portanto podem ser atribuídos a variáveis.\n",
    "val conditionalValue = if (3 > 1) \"true\" else \"false\""
   ]
  },
  {
   "cell_type": "code",
   "execution_count": null,
   "metadata": {
    "collapsed": true
   },
   "outputs": [],
   "source": [
    "// Quando as duas cláusulas (if e else) possuem tipos de retorno diferente, retorna-se o \n",
    "// tipo \"mais em comum\" entre os dois.\n",
    "// Exercício: antes de executar essa célula, tente deduzir qual é o tipo da expressão if/else abaixo:\n",
    "if (5 < 9)\n",
    "    4\n",
    "else\n",
    "    \"false\""
   ]
  },
  {
   "cell_type": "code",
   "execution_count": null,
   "metadata": {
    "collapsed": true
   },
   "outputs": [],
   "source": [
    "// Cláusula \"else\" pode ser omitida, equivale a \"else ()\"\n",
    "val noElse = if (1 > 3) \"true\""
   ]
  },
  {
   "cell_type": "code",
   "execution_count": null,
   "metadata": {
    "collapsed": true
   },
   "outputs": [],
   "source": [
    "// Exercício: qual é o tipo do valor \"()\"? Atribua \"()\" a uma variável e chame o método \"getClass\" para descobrir"
   ]
  },
  {
   "cell_type": "markdown",
   "metadata": {},
   "source": [
    "## Estruturas de repetição"
   ]
  },
  {
   "cell_type": "code",
   "execution_count": null,
   "metadata": {
    "collapsed": true
   },
   "outputs": [],
   "source": [
    "// Laço while - geralmente requer alguma condição baseada em variáveis mutáveis\n",
    "var n = 5\n",
    "while (n > 0) {\n",
    "    println(n)\n",
    "    n -= 1\n",
    "}"
   ]
  },
  {
   "cell_type": "code",
   "execution_count": null,
   "metadata": {
    "collapsed": true
   },
   "outputs": [],
   "source": [
    "// Método \"to\" gera uma sequência incluindo o último elemento\n",
    "for (i <- 1 to 5) {\n",
    "    println(i)\n",
    "}"
   ]
  },
  {
   "cell_type": "code",
   "execution_count": null,
   "metadata": {
    "collapsed": true
   },
   "outputs": [],
   "source": [
    "// Método \"until\" gera uma sequência **excluindo** o último elemento\n",
    "for (i <- 1 until 5) {\n",
    "    println(i)\n",
    "}"
   ]
  },
  {
   "cell_type": "code",
   "execution_count": null,
   "metadata": {
    "collapsed": true
   },
   "outputs": [],
   "source": [
    "// Exercício: atribua as expressões \"1 to 5\" e \"1 until 5\" a variáveis \"val\" e cheque os seus valores"
   ]
  },
  {
   "cell_type": "code",
   "execution_count": null,
   "metadata": {
    "collapsed": true,
    "scrolled": true
   },
   "outputs": [],
   "source": [
    "// Laço for permite especificar mais de uma variável e iterador\n",
    "for (i <- 0 to 5; j = 5 - i; k <- 0 to j) {\n",
    "    println(k)\n",
    "}\n",
    "\n",
    "// Note que a variável \"j\" acima também não precisa ser declarada como val ou var."
   ]
  },
  {
   "cell_type": "code",
   "execution_count": null,
   "metadata": {
    "collapsed": true
   },
   "outputs": [],
   "source": [
    "// Laço for permite colocar uma \"guarda\" ao final da expressão (note que não é necessário usar ponto-e-vírgula)\n",
    "for (i <- 0 to 5; j = 5 - i; k <- 0 to j if j % 2 == 0) {\n",
    "    println(k)\n",
    "}"
   ]
  },
  {
   "cell_type": "code",
   "execution_count": null,
   "metadata": {
    "collapsed": true
   },
   "outputs": [],
   "source": [
    "// \"yield\" no corpo do \"for\" permite retornar uma nova sequência\n",
    "for (i <- 1 to 5) yield i * 3"
   ]
  },
  {
   "cell_type": "markdown",
   "metadata": {},
   "source": [
    "Uma observação a ser feita sobre estruturas de repetição em Scala é o fato de que a linguagem não possui primitivas **break** e **continue**. É até possível usar um bloco *breakable* para poder invocar o comando *break* e interromper um laço, mas isso gera uma exceção e pode não ter um comportamento tão intuitivo quanto em outras linguagens. Ver a documentação do pacote [scala.util.control.Breaks](http://www.scala-lang.org/api/current/index.html#scala.util.control.Breaks) para mais detalhes sobre isso."
   ]
  },
  {
   "cell_type": "markdown",
   "metadata": {},
   "source": [
    "## Estruturas de dados"
   ]
  },
  {
   "cell_type": "markdown",
   "metadata": {},
   "source": [
    "### Listas e Arrays"
   ]
  },
  {
   "cell_type": "code",
   "execution_count": null,
   "metadata": {
    "collapsed": true
   },
   "outputs": [],
   "source": [
    "// Range\n",
    "val aRange = 1 to 10"
   ]
  },
  {
   "cell_type": "code",
   "execution_count": null,
   "metadata": {
    "collapsed": true
   },
   "outputs": [],
   "source": [
    "// Sequence\n",
    "val aSeq = Seq(1, 2, 3, 4, 5)"
   ]
  },
  {
   "cell_type": "code",
   "execution_count": null,
   "metadata": {
    "collapsed": true
   },
   "outputs": [],
   "source": [
    "// Java arrays\n",
    "val anArray = Array(1, 2, 3, 4, 5)"
   ]
  },
  {
   "cell_type": "markdown",
   "metadata": {},
   "source": [
    "* **Range** não armazena todos os elementos em memória, apenas o limite inferior, superior e o incremento entre elementos, gerando os elementos conforme eles forem requisitados;\n",
    "* **Seq** é uma interface para listas em Scala. O construtor *Seq()* retorna uma implementação de *List*, que por sua vez corresponde a uma *LinkedList* de Java;\n",
    "* **Array** representa um array nativo da JVM. Por exemplo, um *Array\\[Int\\]* em Scala é diretamente representado como um *int\\[\\]* de Java. Isso permite que Arrays definidos em Scala sejam passados para métodos Java que recebam Java arrays."
   ]
  },
  {
   "cell_type": "markdown",
   "metadata": {},
   "source": [
    "Listas e Arrays em Scala (que herdam de Seq) tem sua interface definida recursivamente, permitindo acesso à \"cabeça\" da lista (um elemento) via método *head* e à \"cauda\" (a lista original com o primeiro elemento removido) via método *tail*, além de permitir o acesso a elementos aleatórios passando o índice desejado entre parênteses."
   ]
  },
  {
   "cell_type": "code",
   "execution_count": null,
   "metadata": {
    "collapsed": true
   },
   "outputs": [],
   "source": [
    "aSeq.head\n",
    "aSeq.tail\n",
    "aSeq(3) "
   ]
  },
  {
   "cell_type": "markdown",
   "metadata": {},
   "source": [
    "Listas são, por padrão, imutáveis em Scala. Para adicionar elementos a uma lista ou array, é necessário criar uma nova lista concatenando a estrutura existente com outra ou com um novo elemento, criando assim uma nova instância."
   ]
  },
  {
   "cell_type": "code",
   "execution_count": null,
   "metadata": {
    "collapsed": true
   },
   "outputs": [],
   "source": [
    "val anotherSeq = aSeq :+ 6\n",
    "aSeq eq anotherSeq"
   ]
  },
  {
   "cell_type": "code",
   "execution_count": null,
   "metadata": {
    "collapsed": true
   },
   "outputs": [],
   "source": [
    "val yetAnotherSeq = anotherSeq ++ Seq(7)\n",
    "anotherSeq eq yetAnotherSeq"
   ]
  },
  {
   "cell_type": "markdown",
   "metadata": {},
   "source": [
    "Arrays, por outro lado, podem ser modificados:"
   ]
  },
  {
   "cell_type": "code",
   "execution_count": null,
   "metadata": {
    "collapsed": true
   },
   "outputs": [],
   "source": [
    "anArray(0) = 6\n",
    "anArray"
   ]
  },
  {
   "cell_type": "code",
   "execution_count": null,
   "metadata": {
    "collapsed": true
   },
   "outputs": [],
   "source": [
    "// Exercício: tente modificar um elemento de uma lista"
   ]
  },
  {
   "cell_type": "markdown",
   "metadata": {},
   "source": [
    "### Tuplas"
   ]
  },
  {
   "cell_type": "markdown",
   "metadata": {},
   "source": [
    "Tuplas representam uma sequência ordenada de valores que podem ter diferentes tipos."
   ]
  },
  {
   "cell_type": "code",
   "execution_count": null,
   "metadata": {
    "collapsed": true
   },
   "outputs": [],
   "source": [
    "val aTuple = (1, \"tuple\", true, false)\n",
    "aTuple._1\n",
    "aTuple._2\n",
    "aTuple._3"
   ]
  },
  {
   "cell_type": "markdown",
   "metadata": {},
   "source": [
    "### Mapas"
   ]
  },
  {
   "cell_type": "code",
   "execution_count": null,
   "metadata": {
    "collapsed": true
   },
   "outputs": [],
   "source": [
    "// Mapas podem ser construídos com o construtor Map() passando tuplas de (chave, valor)\n",
    "val numbersFromNames = Map((\"one\", 1), (\"two\", 2))\n",
    "numbersFromNames(\"one\")"
   ]
  },
  {
   "cell_type": "code",
   "execution_count": null,
   "metadata": {
    "collapsed": true
   },
   "outputs": [],
   "source": [
    "// Pode-se usar o método \"->\" para construir tuplas e deixar a criação do mapa mais legível\n",
    "val numbersFromNames = Map(\"one\" -> 1, \"two\" -> 2)\n",
    "numbersFromNames(\"one\")"
   ]
  },
  {
   "cell_type": "code",
   "execution_count": null,
   "metadata": {
    "collapsed": true
   },
   "outputs": [],
   "source": [
    "// Exercício: atribua a expressão \"one\" -> 1 a uma variável val e veja seu valor.\n",
    "// O que isso nos diz sobre a estrutura de um Map?"
   ]
  },
  {
   "cell_type": "markdown",
   "metadata": {},
   "source": [
    "Assim como listas, mapas são imutáveis por padrão e portanto é necessário criar novos mapas para se adicionar elementos a um mapa existente:"
   ]
  },
  {
   "cell_type": "code",
   "execution_count": null,
   "metadata": {
    "collapsed": true
   },
   "outputs": [],
   "source": [
    "numbersFromNames + (\"three\" -> 3)"
   ]
  },
  {
   "cell_type": "code",
   "execution_count": null,
   "metadata": {
    "collapsed": true
   },
   "outputs": [],
   "source": [
    "// Pode-se adicionar vários elementos ao mesmo tempo passando os novos pares \"chave -> valor\" em uma tupla\n",
    "numbersFromNames + (\"three\" -> 3, \"four\" -> 3)"
   ]
  },
  {
   "cell_type": "code",
   "execution_count": null,
   "metadata": {
    "collapsed": true
   },
   "outputs": [],
   "source": [
    "// Exercício: repita o exemplo acima usando a notação de tupla ao invés de seta"
   ]
  },
  {
   "cell_type": "code",
   "execution_count": null,
   "metadata": {
    "collapsed": true
   },
   "outputs": [],
   "source": [
    "// Exercício: adicione um novo elemento usando uma chave já existente no mapa\n",
    "// Qual é o resultado obtido?"
   ]
  },
  {
   "cell_type": "code",
   "execution_count": null,
   "metadata": {
    "collapsed": true
   },
   "outputs": [],
   "source": [
    "// Removendo um elemento do mapa\n",
    "numbersFromNames - \"one\""
   ]
  },
  {
   "cell_type": "code",
   "execution_count": null,
   "metadata": {
    "collapsed": true
   },
   "outputs": [],
   "source": [
    "numbersFromNames ++ Map(\"three\" -> 3, \"four\" -> 4)"
   ]
  },
  {
   "cell_type": "markdown",
   "metadata": {},
   "source": [
    "### Iterando em estruturas de dados"
   ]
  },
  {
   "cell_type": "code",
   "execution_count": null,
   "metadata": {
    "collapsed": true
   },
   "outputs": [],
   "source": [
    "// O laço \"for\" pode ser usado para iterar sobre os elementos de uma lista\n",
    "for (n <- aSeq) println(n)"
   ]
  },
  {
   "cell_type": "code",
   "execution_count": null,
   "metadata": {
    "collapsed": true
   },
   "outputs": [],
   "source": [
    "// O laço \"for\" pode ser usado para iterar sobre os **itens** de um mapa, retornando uma tupla por vez\n",
    "for (item <- numbersFromNames) println(item)"
   ]
  },
  {
   "cell_type": "code",
   "execution_count": null,
   "metadata": {
    "collapsed": true
   },
   "outputs": [],
   "source": [
    "// Iterar sobre uma tupla requer transformá-la primeiro em um iterador\n",
    "for (i <- aTuple.productIterator) println(i)"
   ]
  },
  {
   "cell_type": "markdown",
   "metadata": {},
   "source": [
    "### Um passo atrás: funções com argumentos variádicos"
   ]
  },
  {
   "cell_type": "code",
   "execution_count": null,
   "metadata": {
    "collapsed": true
   },
   "outputs": [],
   "source": [
    "def aFunction (numbers: Int*) = {\n",
    "    for (n <- numbers) {\n",
    "        println(n)\n",
    "    }\n",
    "}\n",
    "aFunction(1, 2, 3)"
   ]
  },
  {
   "cell_type": "code",
   "execution_count": null,
   "metadata": {
    "collapsed": true
   },
   "outputs": [],
   "source": [
    "// Exercício: defina um método que recebe um número variável de Ints e uma String, imprimindo-os nessa ordem."
   ]
  }
 ],
 "metadata": {
  "anaconda-cloud": {},
  "kernelspec": {
   "display_name": "Scala 2.11",
   "language": "scala211",
   "name": "scala211"
  },
  "language_info": {
   "codemirror_mode": "text/x-scala",
   "file_extension": ".scala",
   "mimetype": "text/x-scala",
   "name": "scala211",
   "pygments_lexer": "scala",
   "version": "2.11.7"
  }
 },
 "nbformat": 4,
 "nbformat_minor": 2
}
