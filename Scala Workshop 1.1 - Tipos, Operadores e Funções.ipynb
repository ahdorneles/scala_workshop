{
 "cells": [
  {
   "cell_type": "markdown",
   "metadata": {},
   "source": [
    "## Tipos Básicos e impressão\n",
    "Int, Long, Float, Double, Char, Boolean, String..."
   ]
  },
  {
   "cell_type": "code",
   "execution_count": 1,
   "metadata": {
    "collapsed": false
   },
   "outputs": [
    {
     "data": {
      "text/plain": [
       "\u001b[36mres0\u001b[0m: \u001b[32mInt\u001b[0m = \u001b[32m1\u001b[0m"
      ]
     },
     "metadata": {},
     "output_type": "display_data"
    }
   ],
   "source": [
    "1"
   ]
  },
  {
   "cell_type": "code",
   "execution_count": 2,
   "metadata": {
    "collapsed": false
   },
   "outputs": [
    {
     "data": {
      "text/plain": [
       "\u001b[36mres1\u001b[0m: \u001b[32mDouble\u001b[0m = \u001b[32m2.0\u001b[0m"
      ]
     },
     "metadata": {},
     "output_type": "display_data"
    }
   ],
   "source": [
    "2.0"
   ]
  },
  {
   "cell_type": "code",
   "execution_count": 3,
   "metadata": {
    "collapsed": false
   },
   "outputs": [
    {
     "data": {
      "text/plain": [
       "\u001b[36mres2\u001b[0m: \u001b[32mChar\u001b[0m = \u001b[32m'c'\u001b[0m"
      ]
     },
     "metadata": {},
     "output_type": "display_data"
    }
   ],
   "source": [
    "'c'"
   ]
  },
  {
   "cell_type": "code",
   "execution_count": 4,
   "metadata": {
    "collapsed": false
   },
   "outputs": [
    {
     "data": {
      "text/plain": [
       "\u001b[36mres3\u001b[0m: \u001b[32mBoolean\u001b[0m = \u001b[32mtrue\u001b[0m"
      ]
     },
     "metadata": {},
     "output_type": "display_data"
    }
   ],
   "source": [
    "true"
   ]
  },
  {
   "cell_type": "code",
   "execution_count": 5,
   "metadata": {
    "collapsed": false
   },
   "outputs": [
    {
     "data": {
      "text/plain": [
       "\u001b[36mres4\u001b[0m: \u001b[32mString\u001b[0m = \u001b[32m\"Hello\"\u001b[0m"
      ]
     },
     "metadata": {},
     "output_type": "display_data"
    }
   ],
   "source": [
    "\"Hello\""
   ]
  },
  {
   "cell_type": "markdown",
   "metadata": {},
   "source": [
    "Pode-se chamar métodos em tipos literais, não se comportam exatamente como tipos \"nativos\" (apesar de alguns serem!)"
   ]
  },
  {
   "cell_type": "code",
   "execution_count": null,
   "metadata": {
    "collapsed": false
   },
   "outputs": [],
   "source": [
    "2. // Coloque o cursor na frente do ponto e pressione Tab"
   ]
  },
  {
   "cell_type": "code",
   "execution_count": null,
   "metadata": {
    "collapsed": false
   },
   "outputs": [],
   "source": [
    "\"Hello\". // Coloque o cursor na frente do ponto e pressione Tab"
   ]
  },
  {
   "cell_type": "code",
   "execution_count": null,
   "metadata": {
    "collapsed": false
   },
   "outputs": [],
   "source": [
    "'c'. // Coloque o cursor na frente do ponto e pressione Tab"
   ]
  },
  {
   "cell_type": "code",
   "execution_count": 6,
   "metadata": {
    "collapsed": false
   },
   "outputs": [
    {
     "data": {
      "text/plain": [
       "\u001b[36mres5\u001b[0m: \u001b[32mString\u001b[0m = \u001b[32m\"abcdef\"\u001b[0m"
      ]
     },
     "metadata": {},
     "output_type": "display_data"
    }
   ],
   "source": [
    "\"abc\" + \"def\" // Concatenação de Strings"
   ]
  },
  {
   "cell_type": "code",
   "execution_count": 9,
   "metadata": {
    "collapsed": false
   },
   "outputs": [
    {
     "name": "stdout",
     "output_type": "stream",
     "text": [
      "hello world\n"
     ]
    },
    {
     "data": {
      "text/plain": []
     },
     "metadata": {},
     "output_type": "display_data"
    }
   ],
   "source": [
    "println(\"hello world\") // Impressão de strings no console"
   ]
  },
  {
   "cell_type": "code",
   "execution_count": 8,
   "metadata": {
    "collapsed": false
   },
   "outputs": [
    {
     "name": "stdout",
     "output_type": "stream",
     "text": [
      "3\n"
     ]
    },
    {
     "data": {
      "text/plain": []
     },
     "metadata": {},
     "output_type": "display_data"
    }
   ],
   "source": [
    "println(3) // Impressão de tipos numéricos no console"
   ]
  },
  {
   "cell_type": "markdown",
   "metadata": {},
   "source": [
    "Os tipos acima, com exceção de String, são todos subtipos da classe **AnyVal**, sendo chamados de \"value types\".\n",
    "\n",
    "Os tipos que herdam de AnyVal são representados em tempo de execução como tipos nativos da JVM(int, double, char, etc), tendo então seu uso otimizado.\n",
    "\n",
    "É possivel criar novos tipos ricos (Rich Types, na terminologia do DDD) em Scala que herdem de AnyVal para que eles tenham seu uso otimizado em tempo de execução, o que será visto depois nesse workshop."
   ]
  },
  {
   "cell_type": "markdown",
   "metadata": {},
   "source": [
    "### Tipos referenciais\n",
    "\n",
    "O gráfico abaixo ilustra a hierarquia de tipos em Scala:\n",
    "\n",
    "<img src='images/unified-types-diagram.svg'/>\n",
    "*Fonte: https://docs.scala-lang.org/tour/unified-types.html*\n",
    "\n",
    "Pode-se ver que, além dos tipos que herdam de AnyVal, existe uma outra árvore de tipos herdando de **AnyRef** (que por sua vez, além de AnyVal, herda de **Any**) que são considerador *tipos referenciais* (reference types). Os tipos AnyRef abrangem todos os que não são value types, incluindo Strings, outras classes da biblioteca padrão e classes definidas pelo usuário.\n",
    "\n",
    "Outra diferença é que, ao contrário dos value types, os tipos referenciais podem ser instanciados com o operador *new*, conforme ilustrado nas células abaixo:"
   ]
  },
  {
   "cell_type": "code",
   "execution_count": 10,
   "metadata": {
    "collapsed": false
   },
   "outputs": [
    {
     "data": {
      "text/plain": [
       "\u001b[36mres9\u001b[0m: \u001b[32mString\u001b[0m = \u001b[32m\"abc\"\u001b[0m"
      ]
     },
     "metadata": {},
     "output_type": "display_data"
    }
   ],
   "source": [
    "new String(\"abc\")"
   ]
  },
  {
   "cell_type": "code",
   "execution_count": null,
   "metadata": {
    "collapsed": false
   },
   "outputs": [],
   "source": [
    "// Exercício: tente instanciar uma String sem usar o operador \"new\""
   ]
  },
  {
   "cell_type": "code",
   "execution_count": 11,
   "metadata": {
    "collapsed": false
   },
   "outputs": [
    {
     "data": {
      "text/plain": [
       "\u001b[36mstring\u001b[0m: \u001b[32mString\u001b[0m = \u001b[32m\"olá\"\u001b[0m"
      ]
     },
     "metadata": {},
     "output_type": "display_data"
    }
   ],
   "source": [
    "val string = \"olá\""
   ]
  },
  {
   "cell_type": "markdown",
   "metadata": {},
   "source": [
    "## Operadores"
   ]
  },
  {
   "cell_type": "code",
   "execution_count": 12,
   "metadata": {
    "collapsed": false
   },
   "outputs": [
    {
     "data": {
      "text/plain": [
       "\u001b[36mres11_0\u001b[0m: \u001b[32mBoolean\u001b[0m = \u001b[32mfalse\u001b[0m\n",
       "\u001b[36mres11_1\u001b[0m: \u001b[32mBoolean\u001b[0m = \u001b[32mtrue\u001b[0m\n",
       "\u001b[36mres11_2\u001b[0m: \u001b[32mBoolean\u001b[0m = \u001b[32mtrue\u001b[0m"
      ]
     },
     "metadata": {},
     "output_type": "display_data"
    }
   ],
   "source": [
    "// Booleanos\n",
    "true && false\n",
    "false || true\n",
    "!false"
   ]
  },
  {
   "cell_type": "code",
   "execution_count": 13,
   "metadata": {
    "collapsed": false
   },
   "outputs": [
    {
     "data": {
      "text/plain": [
       "\u001b[36mres12_0\u001b[0m: \u001b[32mInt\u001b[0m = \u001b[32m1\u001b[0m\n",
       "\u001b[36mres12_1\u001b[0m: \u001b[32mDouble\u001b[0m = \u001b[32m1.5\u001b[0m"
      ]
     },
     "metadata": {},
     "output_type": "display_data"
    }
   ],
   "source": [
    "// Aritméticos\n",
    "3 / 2\n",
    "3.0 / 2.0"
   ]
  },
  {
   "cell_type": "code",
   "execution_count": 14,
   "metadata": {
    "collapsed": false
   },
   "outputs": [
    {
     "data": {
      "text/plain": [
       "\u001b[36mres13_0\u001b[0m: \u001b[32mBoolean\u001b[0m = \u001b[32mfalse\u001b[0m\n",
       "\u001b[36mres13_1\u001b[0m: \u001b[32mBoolean\u001b[0m = \u001b[32mtrue\u001b[0m"
      ]
     },
     "metadata": {},
     "output_type": "display_data"
    }
   ],
   "source": [
    "// Relacionais\n",
    "1 > 2\n",
    "3 <= 6"
   ]
  },
  {
   "cell_type": "markdown",
   "metadata": {},
   "source": [
    "Scala fornece também operadores de atribuição e *bitwise*. Ver [esse link](https://www.tutorialspoint.com/scala/scala_operators.htm) para mais detalhes."
   ]
  },
  {
   "cell_type": "markdown",
   "metadata": {},
   "source": [
    "## Variáveis"
   ]
  },
  {
   "cell_type": "markdown",
   "metadata": {},
   "source": [
    "Existem duas maneiras de declarar variáveis em Scala:\n",
    "\n",
    "* **val**: cria variáveis que não ser re-atribuídas após serem inicializadas com um valor;\n",
    "* **var**: cria variáveis que podem ser re-atribuídas após serem inicializadas com um valor;"
   ]
  },
  {
   "cell_type": "code",
   "execution_count": 15,
   "metadata": {
    "collapsed": false
   },
   "outputs": [
    {
     "data": {
      "text/plain": [
       "\u001b[36maNumber\u001b[0m: \u001b[32mInt\u001b[0m = \u001b[32m1\u001b[0m\n",
       "\u001b[36manotherNumber\u001b[0m: \u001b[32mInt\u001b[0m = \u001b[32m1\u001b[0m"
      ]
     },
     "metadata": {},
     "output_type": "display_data"
    }
   ],
   "source": [
    "val aNumber: Int = 1\n",
    "val anotherNumber = 1"
   ]
  },
  {
   "cell_type": "code",
   "execution_count": null,
   "metadata": {
    "collapsed": false
   },
   "outputs": [],
   "source": [
    "// Exercício: tente atribuir um novo valor à variável \"aNumber\""
   ]
  },
  {
   "cell_type": "code",
   "execution_count": 20,
   "metadata": {
    "collapsed": false
   },
   "outputs": [
    {
     "data": {
      "text/plain": [
       "\u001b[36maNumber\u001b[0m: \u001b[32mInt\u001b[0m = \u001b[32m2\u001b[0m"
      ]
     },
     "metadata": {},
     "output_type": "display_data"
    }
   ],
   "source": [
    "var aNumber = 2"
   ]
  },
  {
   "cell_type": "code",
   "execution_count": 17,
   "metadata": {
    "collapsed": false
   },
   "outputs": [
    {
     "data": {
      "text/plain": [
       "\u001b[36maDouble\u001b[0m: \u001b[32mDouble\u001b[0m = \u001b[32m3.0\u001b[0m"
      ]
     },
     "metadata": {},
     "output_type": "display_data"
    }
   ],
   "source": [
    "var aDouble = 2.0\n",
    "aDouble = 3.0"
   ]
  },
  {
   "cell_type": "markdown",
   "metadata": {},
   "source": [
    "Variáveis podem receber o resultado de blocos, que são uma sequência de expressões entre chaves (*{}*). **O resultado do bloco é o valor da última expressão naquele bloco**:"
   ]
  },
  {
   "cell_type": "code",
   "execution_count": 18,
   "metadata": {
    "collapsed": false
   },
   "outputs": [
    {
     "data": {
      "text/plain": [
       "\u001b[36maNumericExpression\u001b[0m: \u001b[32mDouble\u001b[0m = \u001b[32m2.0\u001b[0m"
      ]
     },
     "metadata": {},
     "output_type": "display_data"
    }
   ],
   "source": [
    "val aNumericExpression = {\n",
    "    val temp1 = aNumber * 5\n",
    "    val temp2 = temp1 /2.0\n",
    "    temp2 - 3\n",
    "}"
   ]
  },
  {
   "cell_type": "markdown",
   "metadata": {},
   "source": [
    "Uma variação de variáveis *val* são as *lazy* vals. Lazy vals são variáveis imutáveis cujo valor só é calculado quando a variável é usada pela primeira vez:"
   ]
  },
  {
   "cell_type": "code",
   "execution_count": 19,
   "metadata": {
    "collapsed": false
   },
   "outputs": [
    {
     "data": {
      "text/plain": [
       "\u001b[36maDoublePlusOne\u001b[0m: \u001b[32mDouble\u001b[0m = \u001b[32m<lazy>\u001b[0m\n",
       "\u001b[36mres18_1\u001b[0m: \u001b[32mDouble\u001b[0m = \u001b[32m3.0\u001b[0m\n",
       "\u001b[36mres18_2\u001b[0m: \u001b[32mDouble\u001b[0m = \u001b[32m4.0\u001b[0m\n",
       "\u001b[36mres18_3\u001b[0m: \u001b[32mDouble\u001b[0m = \u001b[32m4.0\u001b[0m"
      ]
     },
     "metadata": {},
     "output_type": "display_data"
    }
   ],
   "source": [
    "lazy val aDoublePlusOne = {\n",
    "    aDouble += 1\n",
    "    aDouble\n",
    "}\n",
    "aDouble\n",
    "aDoublePlusOne\n",
    "aDouble"
   ]
  },
  {
   "cell_type": "markdown",
   "metadata": {},
   "source": [
    "É importante salientar que o modificador *lazy* só pode ser usado com vals, não com vars. \n",
    "\n",
    "Tentem descobrir o porquê dessa restrição na linguagem (Dica: imaginem  :)"
   ]
  },
  {
   "cell_type": "markdown",
   "metadata": {},
   "source": [
    "Como recomendação geral, use **val** sempre que possível para preservar a imutabilidade das variáveis definidas."
   ]
  },
  {
   "cell_type": "markdown",
   "metadata": {},
   "source": [
    "## Funções"
   ]
  },
  {
   "cell_type": "code",
   "execution_count": 21,
   "metadata": {
    "collapsed": false
   },
   "outputs": [
    {
     "data": {
      "text/plain": [
       "\u001b[36mres20\u001b[0m: \u001b[32mInt\u001b[0m => \u001b[32mInt\u001b[0m = <function1>"
      ]
     },
     "metadata": {},
     "output_type": "display_data"
    }
   ],
   "source": [
    "// Função anônima\n",
    "(x: Int) => x + 1"
   ]
  },
  {
   "cell_type": "code",
   "execution_count": 22,
   "metadata": {
    "collapsed": false
   },
   "outputs": [
    {
     "data": {
      "text/plain": [
       "\u001b[36maFunction\u001b[0m: (\u001b[32mInt\u001b[0m, \u001b[32mInt\u001b[0m) => \u001b[32mInt\u001b[0m = <function2>\n",
       "\u001b[36mres21_1\u001b[0m: \u001b[32mInt\u001b[0m = \u001b[32m7\u001b[0m"
      ]
     },
     "metadata": {},
     "output_type": "display_data"
    }
   ],
   "source": [
    "// Função atribuída a uma variável\n",
    "val aFunction = (y: Int, z: Int) => {\n",
    "    // Note que as chaves são necessárias quando o corpo da função for composto por mais de uma expressão\n",
    "    val temp = y * 2 + z\n",
    "    temp - 1\n",
    "}\n",
    "aFunction(3, 2)"
   ]
  },
  {
   "cell_type": "code",
   "execution_count": 22,
   "metadata": {
    "collapsed": false
   },
   "outputs": [
    {
     "ename": "",
     "evalue": "",
     "output_type": "error",
     "traceback": [
      "Failure(End:3:5 ...\"}\")"
     ]
    }
   ],
   "source": [
    "// Função sem argumentos\n",
    "val hi = () => println(\"Hi!\")\n",
    "hi()}"
   ]
  },
  {
   "cell_type": "code",
   "execution_count": null,
   "metadata": {
    "collapsed": false
   },
   "outputs": [],
   "source": [
    "// Exercício: defina uma função anônima que receba dois argumentos (um Int e uma String, nessa ordem)\n",
    "//            e retorne o tamanho da string somado ao primeiro argumento (use o método \"length\" ou \"size\" da String)\n",
    "// Atribua a função a uma variável e invoque-a com os argumentos 2 e \"abc\"."
   ]
  },
  {
   "cell_type": "code",
   "execution_count": 30,
   "metadata": {
    "collapsed": false
   },
   "outputs": [
    {
     "data": {
      "text/plain": [
       "\u001b[36mex1\u001b[0m: (\u001b[32mInt\u001b[0m, \u001b[32mString\u001b[0m) => \u001b[32mInt\u001b[0m = <function2>\n",
       "\u001b[36mres29_1\u001b[0m: \u001b[32mInt\u001b[0m = \u001b[32m10\u001b[0m"
      ]
     },
     "metadata": {},
     "output_type": "display_data"
    }
   ],
   "source": [
    "//val ex1 = (x: Int, y: String) => y.length + x}\n",
    "val ex1 = (x: Int, y: String) => y.length + x\n",
    "\n",
    "ex1(3, \"adriana\")"
   ]
  },
  {
   "cell_type": "markdown",
   "metadata": {},
   "source": [
    "### Métodos"
   ]
  },
  {
   "cell_type": "code",
   "execution_count": 31,
   "metadata": {
    "collapsed": false
   },
   "outputs": [
    {
     "data": {
      "text/plain": [
       "defined \u001b[32mfunction \u001b[36maMethod\u001b[0m\n",
       "\u001b[36mres30_1\u001b[0m: \u001b[32mString\u001b[0m = \u001b[32m\"Hello, Felipe\"\u001b[0m"
      ]
     },
     "metadata": {},
     "output_type": "display_data"
    }
   ],
   "source": [
    "// Método\n",
    "def aMethod(name: String): String = \"Hello, \" + name\n",
    "aMethod(\"Felipe\")"
   ]
  },
  {
   "cell_type": "code",
   "execution_count": 32,
   "metadata": {
    "collapsed": false
   },
   "outputs": [
    {
     "data": {
      "text/plain": [
       "defined \u001b[32mfunction \u001b[36maMethodOmittingReturnType\u001b[0m\n",
       "\u001b[36mres31_1\u001b[0m: \u001b[32mString\u001b[0m = \u001b[32m\"Hello, Felipe\"\u001b[0m"
      ]
     },
     "metadata": {},
     "output_type": "display_data"
    }
   ],
   "source": [
    "// Método com tipo de retorno inferido automaticamente\n",
    "// Método\n",
    "def aMethodOmittingReturnType(name: String) = \"Hello, \" + name\n",
    "aMethodOmittingReturnType(\"Felipe\")"
   ]
  },
  {
   "cell_type": "code",
   "execution_count": 33,
   "metadata": {
    "collapsed": false
   },
   "outputs": [
    {
     "data": {
      "text/plain": [
       "defined \u001b[32mfunction \u001b[36mmethodWithMultipleArgsList\u001b[0m\n",
       "\u001b[36mres32_1\u001b[0m: \u001b[32mString\u001b[0m = \u001b[32m\"Hi, Felipe\"\u001b[0m"
      ]
     },
     "metadata": {},
     "output_type": "display_data"
    }
   ],
   "source": [
    "// Método com várias listas de arguments\n",
    "def methodWithMultipleArgsList(greeting: String)(name: String): String = greeting + \", \" + name\n",
    "methodWithMultipleArgsList(\"Hi\")(\"Felipe\")"
   ]
  },
  {
   "cell_type": "code",
   "execution_count": 34,
   "metadata": {
    "collapsed": false
   },
   "outputs": [
    {
     "data": {
      "text/plain": [
       "defined \u001b[32mfunction \u001b[36maString\u001b[0m\n",
       "\u001b[36mres33_1\u001b[0m: \u001b[32mString\u001b[0m = \u001b[32m\"Yebo\"\u001b[0m"
      ]
     },
     "metadata": {},
     "output_type": "display_data"
    }
   ],
   "source": [
    "// Método sem argumentos\n",
    "def aString: String = \"Yebo\"\n",
    "aString"
   ]
  },
  {
   "cell_type": "code",
   "execution_count": 45,
   "metadata": {
    "collapsed": false
   },
   "outputs": [
    {
     "data": {
      "text/plain": [
       "defined \u001b[32mfunction \u001b[36maDoublePlusOne\u001b[0m\n",
       "\u001b[36mres44_1\u001b[0m: \u001b[32mDouble\u001b[0m = \u001b[32m4.0\u001b[0m"
      ]
     },
     "metadata": {},
     "output_type": "display_data"
    }
   ],
   "source": [
    "// Exercício: redefina \"aDoublePlusOne\" abaixo como um def ao invés de uma lazy val, \n",
    "//            mudando o nome para \"aDoublePlusOneDef\".\n",
    "// Qual é a diferença de comportamento nos dois casos? \n",
    "// Dica: cheque os valores da variável \"aDouble\" após imprimir os valores de \"aDoublePlusOne\" e \"aDoublePlusOneDef\".\n",
    "lazy val aDoublePlusOne = {\n",
    "    aDouble += 1\n",
    "    aDouble\n",
    "}\n",
    "aDouble\n"
   ]
  },
  {
   "cell_type": "code",
   "execution_count": 44,
   "metadata": {
    "collapsed": false
   },
   "outputs": [
    {
     "data": {
      "text/plain": [
       "defined \u001b[32mfunction \u001b[36maDoublePlusOneDef\u001b[0m\n",
       "\u001b[36mres43_1\u001b[0m: \u001b[32mDouble\u001b[0m = \u001b[32m4.0\u001b[0m"
      ]
     },
     "metadata": {},
     "output_type": "display_data"
    }
   ],
   "source": [
    "def aDoublePlusOneDef = {\n",
    "    aDouble += 1\n",
    "    aDouble\n",
    "}\n",
    "aDouble"
   ]
  }
 ],
 "metadata": {
  "anaconda-cloud": {},
  "kernelspec": {
   "display_name": "Scala 2.11",
   "language": "scala211",
   "name": "scala211"
  },
  "language_info": {
   "codemirror_mode": "text/x-scala",
   "file_extension": ".scala",
   "mimetype": "text/x-scala",
   "name": "scala211",
   "pygments_lexer": "scala",
   "version": "2.11.7"
  }
 },
 "nbformat": 4,
 "nbformat_minor": 2
}
