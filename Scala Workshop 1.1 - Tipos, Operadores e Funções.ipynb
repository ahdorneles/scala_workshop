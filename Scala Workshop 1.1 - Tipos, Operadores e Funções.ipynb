{
 "cells": [
  {
   "cell_type": "markdown",
   "metadata": {},
   "source": [
    "## Tipos Básicos e impressão\n",
    "Int, Long, Float, Double, Char, Boolean, String..."
   ]
  },
  {
   "cell_type": "code",
   "execution_count": null,
   "metadata": {
    "collapsed": false
   },
   "outputs": [],
   "source": [
    "1"
   ]
  },
  {
   "cell_type": "code",
   "execution_count": null,
   "metadata": {
    "collapsed": false
   },
   "outputs": [],
   "source": [
    "2.0"
   ]
  },
  {
   "cell_type": "code",
   "execution_count": null,
   "metadata": {
    "collapsed": false
   },
   "outputs": [],
   "source": [
    "'c'"
   ]
  },
  {
   "cell_type": "code",
   "execution_count": null,
   "metadata": {
    "collapsed": false
   },
   "outputs": [],
   "source": [
    "true"
   ]
  },
  {
   "cell_type": "code",
   "execution_count": null,
   "metadata": {
    "collapsed": false
   },
   "outputs": [],
   "source": [
    "\"Hello\""
   ]
  },
  {
   "cell_type": "markdown",
   "metadata": {},
   "source": [
    "Pode-se chamar métodos em tipos literais, não se comportam exatamente como tipos \"nativos\" (apesar de alguns serem!)"
   ]
  },
  {
   "cell_type": "code",
   "execution_count": null,
   "metadata": {
    "collapsed": false
   },
   "outputs": [],
   "source": [
    "2. // Coloque o cursor na frente do ponto e pressione Tab"
   ]
  },
  {
   "cell_type": "code",
   "execution_count": null,
   "metadata": {
    "collapsed": false
   },
   "outputs": [],
   "source": [
    "\"Hello\". // Coloque o cursor na frente do ponto e pressione Tab"
   ]
  },
  {
   "cell_type": "code",
   "execution_count": null,
   "metadata": {
    "collapsed": false
   },
   "outputs": [],
   "source": [
    "'c'. // Coloque o cursor na frente do ponto e pressione Tab"
   ]
  },
  {
   "cell_type": "code",
   "execution_count": null,
   "metadata": {
    "collapsed": false
   },
   "outputs": [],
   "source": [
    "\"abc\" + \"def\" // Concatenação de Strings"
   ]
  },
  {
   "cell_type": "code",
   "execution_count": null,
   "metadata": {
    "collapsed": false
   },
   "outputs": [],
   "source": [
    "println(\"hello world\") // Impressão de strings no console"
   ]
  },
  {
   "cell_type": "code",
   "execution_count": null,
   "metadata": {
    "collapsed": false
   },
   "outputs": [],
   "source": [
    "println(3) // Impressão de tipos numéricos no console"
   ]
  },
  {
   "cell_type": "markdown",
   "metadata": {},
   "source": [
    "Os tipos acima, com exceção de String, são todos subtipos da classe **AnyVal**, sendo chamados de \"value types\".\n",
    "\n",
    "Os tipos que herdam de AnyVal são representados em tempo de execução como tipos nativos da JVM(int, double, char, etc), tendo então seu uso otimizado.\n",
    "\n",
    "É possivel criar novos tipos ricos (Rich Types, na terminologia do DDD) em Scala que herdem de AnyVal para que eles tenham seu uso otimizado em tempo de execução, o que será visto depois nesse workshop."
   ]
  },
  {
   "cell_type": "markdown",
   "metadata": {},
   "source": [
    "### Tipos referenciais\n",
    "\n",
    "O gráfico abaixo ilustra a hierarquia de tipos em Scala:\n",
    "\n",
    "<img src='images/unified-types-diagram.svg'/>\n",
    "*Fonte: https://docs.scala-lang.org/tour/unified-types.html*\n",
    "\n",
    "Pode-se ver que, além dos tipos que herdam de AnyVal, existe uma outra árvore de tipos herdando de **AnyRef** (que por sua vez, além de AnyVal, herda de **Any**) que são considerador *tipos referenciais* (reference types). Os tipos AnyRef abrangem todos os que não são value types, incluindo Strings, outras classes da biblioteca padrão e classes definidas pelo usuário.\n",
    "\n",
    "Outra diferença é que, ao contrário dos value types, os tipos referenciais podem ser instanciados com o operador *new*, conforme ilustrado nas células abaixo:"
   ]
  },
  {
   "cell_type": "code",
   "execution_count": null,
   "metadata": {
    "collapsed": false
   },
   "outputs": [],
   "source": [
    "new String(\"abc\")"
   ]
  },
  {
   "cell_type": "code",
   "execution_count": null,
   "metadata": {
    "collapsed": false
   },
   "outputs": [],
   "source": [
    "// Exercício: tente instanciar uma String sem usar o operador \"new\""
   ]
  },
  {
   "cell_type": "markdown",
   "metadata": {},
   "source": [
    "## Operadores"
   ]
  },
  {
   "cell_type": "code",
   "execution_count": null,
   "metadata": {
    "collapsed": false
   },
   "outputs": [],
   "source": [
    "// Booleanos\n",
    "true && false\n",
    "false || true\n",
    "!false"
   ]
  },
  {
   "cell_type": "code",
   "execution_count": null,
   "metadata": {
    "collapsed": false
   },
   "outputs": [],
   "source": [
    "// Aritméticos\n",
    "3 / 2\n",
    "3.0 / 2.0"
   ]
  },
  {
   "cell_type": "code",
   "execution_count": null,
   "metadata": {
    "collapsed": false
   },
   "outputs": [],
   "source": [
    "// Relacionais\n",
    "1 > 2\n",
    "3 <= 6"
   ]
  },
  {
   "cell_type": "markdown",
   "metadata": {},
   "source": [
    "Scala fornece também operadores de atribuição e *bitwise*. Ver [esse link](https://www.tutorialspoint.com/scala/scala_operators.htm) para mais detalhes."
   ]
  },
  {
   "cell_type": "markdown",
   "metadata": {},
   "source": [
    "## Variáveis"
   ]
  },
  {
   "cell_type": "markdown",
   "metadata": {},
   "source": [
    "Existem duas maneiras de declarar variáveis em Scala:\n",
    "\n",
    "* **val**: cria variáveis que não ser re-atribuídas após serem inicializadas com um valor;\n",
    "* **var**: cria variáveis que podem ser re-atribuídas após serem inicializadas com um valor;"
   ]
  },
  {
   "cell_type": "code",
   "execution_count": null,
   "metadata": {
    "collapsed": false
   },
   "outputs": [],
   "source": [
    "val aNumber: Int = 1\n",
    "val anotherNumber = 1"
   ]
  },
  {
   "cell_type": "code",
   "execution_count": null,
   "metadata": {
    "collapsed": false
   },
   "outputs": [],
   "source": [
    "// Exercício: tente atribuir um novo valor à variável \"aNumber\""
   ]
  },
  {
   "cell_type": "code",
   "execution_count": null,
   "metadata": {
    "collapsed": false
   },
   "outputs": [],
   "source": [
    "var aDouble = 2.0\n",
    "aDouble = 3.0"
   ]
  },
  {
   "cell_type": "markdown",
   "metadata": {},
   "source": [
    "Variáveis podem receber o resultado de blocos, que são uma sequência de expressões entre chaves (*{}*). **O resultado do bloco é o valor da última expressão naquele bloco**:"
   ]
  },
  {
   "cell_type": "code",
   "execution_count": null,
   "metadata": {
    "collapsed": false
   },
   "outputs": [],
   "source": [
    "val aNumericExpression = {\n",
    "    val temp1 = aNumber * 5\n",
    "    val temp2 = temp1 /2.0\n",
    "    temp2 - 3\n",
    "}"
   ]
  },
  {
   "cell_type": "markdown",
   "metadata": {},
   "source": [
    "Uma variação de variáveis *val* são as *lazy* vals. Lazy vals são variáveis imutáveis cujo valor só é calculado quando a variável é usada pela primeira vez:"
   ]
  },
  {
   "cell_type": "code",
   "execution_count": null,
   "metadata": {
    "collapsed": false
   },
   "outputs": [],
   "source": [
    "lazy val aDoublePlusOne = {\n",
    "    aDouble += 1\n",
    "    aDouble\n",
    "}\n",
    "aDouble\n",
    "aDoublePlusOne\n",
    "aDouble"
   ]
  },
  {
   "cell_type": "markdown",
   "metadata": {},
   "source": [
    "É importante salientar que o modificador *lazy* só pode ser usado com vals, não com vars. \n",
    "\n",
    "Tentem descobrir o porquê dessa restrição na linguagem (Dica: imaginem  :)"
   ]
  },
  {
   "cell_type": "markdown",
   "metadata": {},
   "source": [
    "Como recomendação geral, use **val** sempre que possível para preservar a imutabilidade das variáveis definidas."
   ]
  },
  {
   "cell_type": "markdown",
   "metadata": {},
   "source": [
    "## Funções"
   ]
  },
  {
   "cell_type": "code",
   "execution_count": null,
   "metadata": {
    "collapsed": false
   },
   "outputs": [],
   "source": [
    "// Função anônima\n",
    "(x: Int) => x + 1"
   ]
  },
  {
   "cell_type": "code",
   "execution_count": null,
   "metadata": {
    "collapsed": false
   },
   "outputs": [],
   "source": [
    "// Função atribuída a uma variável\n",
    "val aFunction = (y: Int, z: Int) => {\n",
    "    // Note que as chaves são necessárias quando o corpo da função for composto por mais de uma expressão\n",
    "    val temp = y * 2 + z\n",
    "    temp - 1\n",
    "}\n",
    "aFunction(3, 2)"
   ]
  },
  {
   "cell_type": "code",
   "execution_count": null,
   "metadata": {
    "collapsed": false
   },
   "outputs": [],
   "source": [
    "// Função sem argumentos\n",
    "val hi = () => println(\"Hi!\")\n",
    "hi()"
   ]
  },
  {
   "cell_type": "code",
   "execution_count": null,
   "metadata": {
    "collapsed": false
   },
   "outputs": [],
   "source": [
    "// Exercício: defina uma função anônima que receba dois argumentos (um Int e uma String, nessa ordem)\n",
    "//            e retorne o tamanho da string somado ao primeiro argumento (use o método \"length\" ou \"size\" da String)\n",
    "// Atribua a função a uma variável e invoque-a com os argumentos 2 e \"abc\"."
   ]
  },
  {
   "cell_type": "markdown",
   "metadata": {},
   "source": [
    "### Métodos"
   ]
  },
  {
   "cell_type": "code",
   "execution_count": null,
   "metadata": {
    "collapsed": false
   },
   "outputs": [],
   "source": [
    "// Método\n",
    "def aMethod(name: String): String = \"Hello, \" + name\n",
    "aMethod(\"Felipe\")"
   ]
  },
  {
   "cell_type": "code",
   "execution_count": null,
   "metadata": {
    "collapsed": false
   },
   "outputs": [],
   "source": [
    "// Método com tipo de retorno inferido automaticamente\n",
    "// Método\n",
    "def aMethodOmittingReturnType(name: String) = \"Hello, \" + name\n",
    "aMethodOmittingReturnType(\"Felipe\")"
   ]
  },
  {
   "cell_type": "code",
   "execution_count": null,
   "metadata": {
    "collapsed": false
   },
   "outputs": [],
   "source": [
    "// Método com várias listas de arguments\n",
    "def methodWithMultipleArgsList(greeting: String)(name: String): String = greeting + \", \" + name\n",
    "methodWithMultipleArgsList(\"Hi\")(\"Felipe\")"
   ]
  },
  {
   "cell_type": "code",
   "execution_count": null,
   "metadata": {
    "collapsed": false
   },
   "outputs": [],
   "source": [
    "// Método sem argumentos\n",
    "def aString: String = \"Yebo\"\n",
    "aString"
   ]
  },
  {
   "cell_type": "code",
   "execution_count": null,
   "metadata": {
    "collapsed": false
   },
   "outputs": [],
   "source": [
    "// Exercício: redefina \"aDoublePlusOne\" abaixo como um def ao invés de uma lazy val, \n",
    "//            mudando o nome para \"aDoublePlusOneDef\".\n",
    "// Qual é a diferença de comportamento nos dois casos? \n",
    "// Dica: cheque os valores da variável \"aDouble\" após imprimir os valores de \"aDoublePlusOne\" e \"aDoublePlusOneDef\".\n",
    "lazy val aDoublePlusOne = {\n",
    "    aDouble += 1\n",
    "    aDouble\n",
    "}"
   ]
  },
  {
   "cell_type": "code",
   "execution_count": null,
   "metadata": {
    "collapsed": false
   },
   "outputs": [],
   "source": [
    "// Método com lista vazia de argumentos\n",
    "def aStringWithNoArgs(): String = \"Gogo\"\n",
    "aStringWithNoArgs()"
   ]
  },
  {
   "cell_type": "code",
   "execution_count": null,
   "metadata": {
    "collapsed": false
   },
   "outputs": [],
   "source": [
    "// Método recursivo\n",
    "def aRecursiveMethod(n: Int) = {\n",
    "    if (n == 0)\n",
    "        1\n",
    "    else\n",
    "        n * aRecursiveMethod(n-1)\n",
    "}\n",
    "aRecursiveMethod(4)"
   ]
  },
  {
   "cell_type": "markdown",
   "metadata": {},
   "source": [
    "*Porque não seria possível definir uma **função** recursiva usando val?*"
   ]
  }
 ],
 "metadata": {
  "anaconda-cloud": {},
  "kernelspec": {
   "display_name": "Scala 2.11",
   "language": "scala211",
   "name": "scala211"
  },
  "language_info": {
   "codemirror_mode": "text/x-scala",
   "file_extension": ".scala",
   "mimetype": "text/x-scala",
   "name": "scala211",
   "pygments_lexer": "scala",
   "version": "2.11.7"
  }
 },
 "nbformat": 4,
 "nbformat_minor": 2
}
